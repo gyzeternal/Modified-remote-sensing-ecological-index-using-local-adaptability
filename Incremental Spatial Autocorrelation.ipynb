{
 "cells": [
  {
   "cell_type": "code",
   "execution_count": 1,
   "id": "fa0434ae-3ec1-4837-9c5a-9736a415bb2b",
   "metadata": {
    "collapsed": true,
    "jupyter": {
     "outputs_hidden": true
    },
    "tags": []
   },
   "outputs": [
    {
     "name": "stderr",
     "output_type": "stream",
     "text": [
      "C:\\Users\\DELL\\AppData\\Roaming\\Python\\Python38\\site-packages\\geopandas\\_compat.py:124: UserWarning: The Shapely GEOS version (3.11.1-CAPI-1.17.1) is incompatible with the GEOS version PyGEOS was compiled with (3.10.4-CAPI-1.16.2). Conversions between both will be slow.\n",
      "  warnings.warn(\n",
      "C:\\Users\\Public\\Documents\\Wondershare\\CreatorTemp\\ipykernel_35352\\2092376092.py:1: DeprecationWarning: Shapely 2.0 is installed, but because PyGEOS is also installed, GeoPandas still uses PyGEOS by default. However, starting with version 0.14, the default will switch to Shapely. To force to use Shapely 2.0 now, you can either uninstall PyGEOS or set the environment variable USE_PYGEOS=0. You can do this before starting the Python process, or in your code before importing geopandas:\n",
      "\n",
      "import os\n",
      "os.environ['USE_PYGEOS'] = '0'\n",
      "import geopandas\n",
      "\n",
      "In the next release, GeoPandas will switch to using Shapely by default, even if PyGEOS is installed. If you only have PyGEOS installed to get speed-ups, this switch should be smooth. However, if you are using PyGEOS directly (calling PyGEOS functions on geometries from GeoPandas), this will then stop working and you are encouraged to migrate from PyGEOS to Shapely 2.0 (https://shapely.readthedocs.io/en/latest/migration_pygeos.html).\n",
      "  import geopandas as gpd\n"
     ]
    }
   ],
   "source": [
    "import geopandas as gpd\n",
    "import numpy as np\n",
    "from libpysal.weights import DistanceBand\n",
    "from esda.moran import Moran\n",
    "from joblib import Parallel, delayed"
   ]
  },
  {
   "cell_type": "code",
   "execution_count": 24,
   "id": "05bcc2b6-b698-4f7e-8010-cd9d1ecb5ba7",
   "metadata": {
    "tags": []
   },
   "outputs": [],
   "source": [
    "# Step 1: 读取数据\n",
    "gdf = gpd.read_file(r\"....shp\")\n",
    "gdf = gpd.read_file(r\"....shp\")\n",
    "gdf = gdf.to_crs(epsg=32650) \n",
    "\n",
    "# Step 2: 准备变量\n",
    "coords = np.array([(geom.x, geom.y) for geom in gdf.geometry])\n",
    "values = gdf['grid_code'].values  # 替换为需要分析的字段\n",
    "\n",
    "# Step 3: 定义函数计算某个距离下的 Moran's I\n",
    "def calc_moran_i(distance):\n",
    "    gdf_valid = gdf.dropna(subset=['grid_code'])\n",
    "    w = DistanceBand(coords, threshold=distance, binary=True, silence_warnings=True)\n",
    "    moran = Moran(values, w)\n",
    "    return {\n",
    "        \"distance\": distance,\n",
    "        \"I\": moran.I,\n",
    "        \"Z\": moran.z_norm,\n",
    "        \"p\": moran.p_norm\n",
    "    }"
   ]
  },
  {
   "cell_type": "code",
   "execution_count": null,
   "id": "066ea74b-be16-463c-bd2e-d77fcd1c3be9",
   "metadata": {
    "tags": []
   },
   "outputs": [],
   "source": [
    "# Step 4: 距离列表（单位米）\n",
    "distances = list(range(10000, 30000, 500))  # 1000 到 12000 每隔1000\n",
    "\n",
    "# Step 5: 并行计算\n",
    "results = Parallel(n_jobs= 6)(delayed(calc_moran_i)(d) for d in distances)\n",
    "\n",
    "# Step 6: 输出结果\n",
    "import pandas as pd\n",
    "df = pd.DataFrame(results)\n",
    "df"
   ]
  }
 ],
 "metadata": {
  "kernelspec": {
   "display_name": "py38",
   "language": "python",
   "name": "py38"
  },
  "language_info": {
   "codemirror_mode": {
    "name": "ipython",
    "version": 3
   },
   "file_extension": ".py",
   "mimetype": "text/x-python",
   "name": "python",
   "nbconvert_exporter": "python",
   "pygments_lexer": "ipython3",
   "version": "3.8.16"
  }
 },
 "nbformat": 4,
 "nbformat_minor": 5
}
